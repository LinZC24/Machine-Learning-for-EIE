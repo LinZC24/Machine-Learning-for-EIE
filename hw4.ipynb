{
 "cells": [
  {
   "cell_type": "code",
   "execution_count": null,
   "metadata": {},
   "outputs": [],
   "source": [
    "import numpy as np\n",
    "import torch\n",
    "import torch.nn.functional as F  #激活函数\n",
    "from torch import nn\n",
    "from torch import optim  #优化器\n",
    "import torchvision\n",
    "from torchvision.datasets import MNIST  #自带的数据集，手写数字\n",
    "import matplotlib.pyplot as plt\n",
    "import torch.utils.data"
   ]
  },
  {
   "cell_type": "code",
   "execution_count": null,
   "metadata": {},
   "outputs": [],
   "source": [
    "class CifarDataset(torch.utils.data.Dataset):\n",
    "  def __init__(self, root_dir):\n",
    "    #初始化数据集，包含一系列图片与对应标签\n",
    "    super().__init__()\n",
    "    raise NotImplementedError\n",
    "  \n",
    "  def __len__(self):\n",
    "    #返回数据集大小\n",
    "    raise NotImplementedError\n",
    "  \n",
    "  def __getitem__(self, index):\n",
    "    #返回第index个样本\n",
    "    raise NotImplementedError\n",
    "  \n",
    "  "
   ]
  },
  {
   "cell_type": "code",
   "execution_count": null,
   "metadata": {},
   "outputs": [],
   "source": [
    "train_dataset=CifarDataset(TRAIN_DIRECTORY_PATH)\n",
    "train_dataloader=torch.utils.data.DataLoader(train_dataset, batch_size=BATCH_SIZE, shuffle=True)\n"
   ]
  }
 ],
 "metadata": {
  "kernelspec": {
   "display_name": "base",
   "language": "python",
   "name": "python3"
  },
  "language_info": {
   "codemirror_mode": {
    "name": "ipython",
    "version": 3
   },
   "file_extension": ".py",
   "mimetype": "text/x-python",
   "name": "python",
   "nbconvert_exporter": "python",
   "pygments_lexer": "ipython3",
   "version": "3.11.5"
  }
 },
 "nbformat": 4,
 "nbformat_minor": 2
}
