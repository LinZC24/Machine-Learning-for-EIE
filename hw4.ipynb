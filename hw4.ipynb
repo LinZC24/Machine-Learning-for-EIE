{
 "cells": [
  {
   "cell_type": "code",
   "execution_count": 8,
   "metadata": {},
   "outputs": [],
   "source": [
    "import numpy as np\n",
    "import torch\n",
    "import torch.nn.functional as F  #激活函数\n",
    "from torch import nn\n",
    "from torch import optim  #优化器\n",
    "import torchvision\n",
    "import matplotlib.pyplot as plt\n",
    "import os"
   ]
  },
  {
   "cell_type": "code",
   "execution_count": 9,
   "metadata": {},
   "outputs": [],
   "source": [
    "def get_data(root_dir):\n",
    "  paths=[]\n",
    "  labels=[]\n",
    "  for root, dirs, files in os.walk(root_dir):\n",
    "    for file in files:\n",
    "      paths.append(os.path.join(root, file))\n",
    "      index=file.find('_')\n",
    "      labels.append(file[:index])\n",
    "  return paths,labels\n",
    "\n",
    "def get_folder(root_dir):\n",
    "  folder_name=[]\n",
    "  for entry in os.listdir(root_dir):\n",
    "    full_path=os.path.join(root_dir, entry)\n",
    "    if os.path.isdir(full_path):\n",
    "      folder_name.append(entry)\n",
    "  return folder_name"
   ]
  },
  {
   "cell_type": "code",
   "execution_count": 10,
   "metadata": {},
   "outputs": [],
   "source": [
    "class CifarDataset(torch.utils.data.Dataset):\n",
    "  def __init__(self, root_dir):\n",
    "    #初始化数据集，包含一系列图片与对应标签\n",
    "    super().__init__()\n",
    "    #self.data_path=root_dir\n",
    "    dataset=get_folder(root_dir)\n",
    "    data, labels=get_data(root_dir)\n",
    "    self.data=data\n",
    "    self.label=labels\n",
    "    if(dataset[0][-4:]=='test'):\n",
    "      #test_labels=get_folder(dataset[0])\n",
    "      test_data, test_labels=get_data(dataset[0])\n",
    "      #train_labels=get_folder(dataset[1])\n",
    "      train_data, train_labels=get_data(dataset[1])\n",
    "    else:\n",
    "      #test_labels=get_folder(dataset[1])\n",
    "      test_data, test_labels=get_data(dataset[1])\n",
    "      #train_labels=get_folder(dataset[0])\n",
    "      train_data, train_labels=get_data(dataset[0])\n",
    "    self.train_label=train_labels\n",
    "    self.train=train_data\n",
    "    self.test_label=test_labels\n",
    "    self.test=test_data\n",
    "    #raise NotImplementedError\n",
    "  \n",
    "  def __len__(self):\n",
    "    #返回数据集大小\n",
    "    return len(self.data)\n",
    "    #raise NotImplementedError\n",
    "  \n",
    "  def __getitem__(self, index):\n",
    "    #返回第index个样本\n",
    "    return self.data[index], self.label[index]\n",
    "    #raise NotImplementedError\n",
    "  \n",
    "  "
   ]
  },
  {
   "cell_type": "code",
   "execution_count": 14,
   "metadata": {},
   "outputs": [
    {
     "name": "stdout",
     "output_type": "stream",
     "text": [
      "('..\\\\cifar10\\\\cifar10_test\\\\airplane\\\\airplane_00002.png', 'airplane')\n"
     ]
    }
   ],
   "source": [
    "train_dataset=CifarDataset('..\\cifar10')\n",
    "train_dataloader=torch.utils.data.DataLoader(train_dataset, batch_size=32, shuffle=True)\n",
    "print(train_dataset[2])"
   ]
  }
 ],
 "metadata": {
  "kernelspec": {
   "display_name": "base",
   "language": "python",
   "name": "python3"
  },
  "language_info": {
   "codemirror_mode": {
    "name": "ipython",
    "version": 3
   },
   "file_extension": ".py",
   "mimetype": "text/x-python",
   "name": "python",
   "nbconvert_exporter": "python",
   "pygments_lexer": "ipython3",
   "version": "3.11.5"
  }
 },
 "nbformat": 4,
 "nbformat_minor": 2
}
